{
 "cells": [
  {
   "cell_type": "markdown",
   "id": "291f0678",
   "metadata": {},
   "source": [
    "### This notebook introduces the library h2_station_distributor by providing an overview of some of its functionality\n",
    "\n",
    "First you need to have the library installed, for that simply move to the folder to which you cloned the repo and run `pip install .`"
   ]
  },
  {
   "cell_type": "code",
   "execution_count": null,
   "id": "c84af2dd",
   "metadata": {},
   "outputs": [],
   "source": [
    "# Import some classes\n",
    "from h2_station_distributor.utils.helpers import Accounting, Data, LoadData, Plots, Strategies"
   ]
  },
  {
   "cell_type": "code",
   "execution_count": null,
   "id": "22cdd4a5",
   "metadata": {},
   "outputs": [],
   "source": [
    "# Now we can start off by loading important GeoDataFrames\n",
    "regions = LoadData.load_regions()\n",
    "traffic = LoadData.load_traffic()\n",
    "depreg = LoadData.load_depreg()\n",
    "stations = LoadData.load_stations()\n",
    "logistic_hubs = LoadData.load_logistic_hubs()\n",
    "water_bodies = LoadData.load_water_bodies()"
   ]
  },
  {
   "cell_type": "markdown",
   "id": "f0dc542c",
   "metadata": {},
   "source": [
    "### Before we can move on, some GeoDataFrames have to be slightly adapted for our purposes, luckily Data holds the necessary methods for that"
   ]
  },
  {
   "cell_type": "code",
   "execution_count": null,
   "id": "b4c84a4c",
   "metadata": {},
   "outputs": [],
   "source": [
    "# We are only interested in the areas in mainland France and will therefore remove other records\n",
    "stations = Data.limit_gdfs_to_main_land_france(df=stations, df_regions=regions)"
   ]
  },
  {
   "cell_type": "markdown",
   "id": "95390a33",
   "metadata": {},
   "source": [
    "#### The traffic GeoDataFrames will be expected to have some more information than it originally comes with so let's add that next"
   ]
  },
  {
   "cell_type": "code",
   "execution_count": null,
   "id": "a2b36a39",
   "metadata": {},
   "outputs": [],
   "source": [
    "# We want to add the traffic of H2 trucks, for this example let's assume that there will be 10'000 H2 truck on the\n",
    "# road in 2030\n",
    "n_trucks = 10_000\n",
    "traffic = Data.add_h2_truck_traffic(traffic, n_trucks=n_trucks, target_year=2030)\n",
    "# Now we want to add a column providing information on the H2 truck traffic density which will later be used as a\n",
    "# prior for the station and plant distribution. As density area we are going to use 50 km\n",
    "traffic = Data.add_buffer_distance(traffic, buffer_size=50000)\n",
    "# Since we have data on the logistic hubs in France which will be helpful in deciding on the location of stations,\n",
    "# we add it now\n",
    "traffic = Data.add_distance_to_nearest_logistic_hub(traffic, logistic_hubs)\n",
    "# Finally, since H2 production plants need a lot of water, we are going to consider the proximity to a body of\n",
    "# of water when we distributing the plants, luckily the internet provided us with this data which we integrate now\n",
    "traffic = Data.add_distance_to_nearest_body_of_water(traffic_hub_distance, water_bodies)"
   ]
  },
  {
   "cell_type": "markdown",
   "id": "163642af",
   "metadata": {},
   "source": [
    "### Now that we have everything to distribute stations and plants let's jump right into it\n",
    "##### For the purpose of demonstration we created some simpler methods to distribute stations and plants to get a quick overview of what that might look like"
   ]
  },
  {
   "cell_type": "code",
   "execution_count": null,
   "id": "289a938d",
   "metadata": {},
   "outputs": [],
   "source": [
    "# First we create the station distribution (for example for 200 stations)\n",
    "df_areas_stations = Strategies.split_into_n_areas(traffic, n_areas=147, buffer_step=5000)\n",
    "station_distribution = Strategies.create_h2_station_distribution_from_areas(df_areas=df_areas_stations,\n",
    "                                                                            df_with_hub_distance=traffic)\n",
    "# Now we can distribute the plants (for this example only big ones)\n",
    "df_areas_plants = Strategies.split_into_areas_fuel_based(traffic, h2_in_kg=48000)\n",
    "plant_distribution = Strategies.create_h2_plant_distribution_from_areas(df_areas=df_areas_plants,\n",
    "                                                                        df_hubs_water=traffic)"
   ]
  },
  {
   "cell_type": "markdown",
   "id": "98d7aa6a",
   "metadata": {},
   "source": [
    "### That's already it, so let's visualize our results"
   ]
  },
  {
   "cell_type": "markdown",
   "id": "f329000b",
   "metadata": {},
   "source": [
    "You can either create matplotlib figures:"
   ]
  },
  {
   "cell_type": "code",
   "execution_count": null,
   "id": "47cb0d73",
   "metadata": {},
   "outputs": [],
   "source": [
    "# Plotting the stations\n",
    "Plots.plot_chosen_stations(station_distribution, regions)\n",
    "# Plotting the plants\n",
    "Plots.plot_chosen_plants(plant_distribution, regions)"
   ]
  },
  {
   "cell_type": "markdown",
   "id": "2615214e",
   "metadata": {},
   "source": [
    "Or you can plot plotly figures:"
   ]
  },
  {
   "cell_type": "code",
   "execution_count": null,
   "id": "94ba36bd",
   "metadata": {},
   "outputs": [],
   "source": [
    "# Plotting the stations\n",
    "Plots.plotly_plot_chosen_stations(station_distribution, regions)\n",
    "# Plotting the plants\n",
    "Plots.plotly_plot_chosen_plants(plant_distribution, regions)"
   ]
  },
  {
   "cell_type": "markdown",
   "id": "927caa7a",
   "metadata": {},
   "source": [
    "This notebook is only a short introduction to the library, feel free to explore it in more depth and (if you have\n",
    "time) run the more complex algorithms which can be found in the \"models\" folder and in the \"RL\" class in the \"helpers\" module"
   ]
  },
  {
   "cell_type": "code",
   "execution_count": null,
   "id": "40c32e15",
   "metadata": {},
   "outputs": [],
   "source": []
  }
 ],
 "metadata": {
  "kernelspec": {
   "display_name": "air_liquide_kernel",
   "language": "python",
   "name": "air_liquide_kernel"
  },
  "language_info": {
   "codemirror_mode": {
    "name": "ipython",
    "version": 3
   },
   "file_extension": ".py",
   "mimetype": "text/x-python",
   "name": "python",
   "nbconvert_exporter": "python",
   "pygments_lexer": "ipython3",
   "version": "3.9.10"
  }
 },
 "nbformat": 4,
 "nbformat_minor": 5
}
