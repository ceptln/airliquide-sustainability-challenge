{
 "cells": [
  {
   "cell_type": "code",
   "execution_count": 1,
   "metadata": {},
   "outputs": [],
   "source": [
    "import os \n",
    "import sys\n",
    "import pandas as pd\n",
    "module_path = os.path.abspath(os.path.join('..'))\n",
    "if module_path not in sys.path:\n",
    "    sys.path.append(module_path)\n",
    "from h2_station_distributor.models.stations import Stations\n",
    "from h2_station_distributor.utils.helpers  import Data\n",
    "stations = Stations()\n",
    "reqs_df = pd.read_csv(Data.find_file(\"reqs_df.csv\"))"
   ]
  },
  {
   "cell_type": "code",
   "execution_count": 3,
   "metadata": {},
   "outputs": [],
   "source": [
    "stations.solution()"
   ]
  },
  {
   "cell_type": "code",
   "execution_count": 2,
   "metadata": {},
   "outputs": [
    {
     "name": "stdout",
     "output_type": "stream",
     "text": [
      "Auvergne-Rhône-Alpes 48 32 15\n"
     ]
    },
    {
     "name": "stderr",
     "output_type": "stream",
     "text": [
      "/Users/youssefjouini/opt/anaconda3/envs/sust/lib/python3.9/site-packages/geopandas/geodataframe.py:1443: SettingWithCopyWarning: \n",
      "A value is trying to be set on a copy of a slice from a DataFrame.\n",
      "Try using .loc[row_indexer,col_indexer] = value instead\n",
      "\n",
      "See the caveats in the documentation: https://pandas.pydata.org/pandas-docs/stable/user_guide/indexing.html#returning-a-view-versus-a-copy\n",
      "  super().__setitem__(key, value)\n",
      "/Users/youssefjouini/opt/anaconda3/envs/sust/lib/python3.9/site-packages/geopandas/geodataframe.py:1443: SettingWithCopyWarning: \n",
      "A value is trying to be set on a copy of a slice from a DataFrame.\n",
      "Try using .loc[row_indexer,col_indexer] = value instead\n",
      "\n",
      "See the caveats in the documentation: https://pandas.pydata.org/pandas-docs/stable/user_guide/indexing.html#returning-a-view-versus-a-copy\n",
      "  super().__setitem__(key, value)\n"
     ]
    },
    {
     "ename": "IndexError",
     "evalue": "index 382 is out of bounds for axis 0 with size 382",
     "output_type": "error",
     "traceback": [
      "\u001b[0;31m---------------------------------------------------------------------------\u001b[0m",
      "\u001b[0;31mIndexError\u001b[0m                                Traceback (most recent call last)",
      "Cell \u001b[0;32mIn[2], line 13\u001b[0m\n\u001b[1;32m     10\u001b[0m     fin_df \u001b[39m=\u001b[39m pd\u001b[39m.\u001b[39mconcat([fin_df, solution])\u001b[39m.\u001b[39mreset_index(drop\u001b[39m=\u001b[39m\u001b[39mTrue\u001b[39;00m)\n\u001b[1;32m     11\u001b[0m   \u001b[39mreturn\u001b[39;00m fin_df\n\u001b[0;32m---> 13\u001b[0m run_algo(reqs_df)\n",
      "Cell \u001b[0;32mIn[2], line 9\u001b[0m, in \u001b[0;36mrun_algo\u001b[0;34m(reqs_df)\u001b[0m\n\u001b[1;32m      7\u001b[0m   big \u001b[39m=\u001b[39m reqs_df\u001b[39m.\u001b[39miloc[i,\u001b[39m3\u001b[39m]\n\u001b[1;32m      8\u001b[0m   \u001b[39mprint\u001b[39m(region, small, medium, big)\n\u001b[0;32m----> 9\u001b[0m   solution \u001b[39m=\u001b[39m stations\u001b[39m.\u001b[39;49msolution(region,big, medium, small)\n\u001b[1;32m     10\u001b[0m   fin_df \u001b[39m=\u001b[39m pd\u001b[39m.\u001b[39mconcat([fin_df, solution])\u001b[39m.\u001b[39mreset_index(drop\u001b[39m=\u001b[39m\u001b[39mTrue\u001b[39;00m)\n\u001b[1;32m     11\u001b[0m \u001b[39mreturn\u001b[39;00m fin_df\n",
      "File \u001b[0;32m~/Documents/GitHub/airliquide-sustainability-challenge-1/h2_station_distributor/models/stations.py:233\u001b[0m, in \u001b[0;36mStations.solution\u001b[0;34m(self, region, nums_big, nums_medium, nums_small)\u001b[0m\n\u001b[1;32m    231\u001b[0m \u001b[39mdef\u001b[39;00m \u001b[39msolution\u001b[39m(\u001b[39mself\u001b[39m, region, nums_big, nums_medium, nums_small):\n\u001b[1;32m    232\u001b[0m     big \u001b[39m=\u001b[39m \u001b[39mself\u001b[39m\u001b[39m.\u001b[39mget_best_locations(\n\u001b[0;32m--> 233\u001b[0m         \u001b[39mself\u001b[39;49m\u001b[39m.\u001b[39;49mprepare_and_fitness_big(region), nums_big, \u001b[39m\"\u001b[39m\u001b[39mbig\u001b[39m\u001b[39m\"\u001b[39m\n\u001b[1;32m    234\u001b[0m     )\n\u001b[1;32m    235\u001b[0m     medium \u001b[39m=\u001b[39m \u001b[39mself\u001b[39m\u001b[39m.\u001b[39mget_best_locations(\n\u001b[1;32m    236\u001b[0m         \u001b[39mself\u001b[39m\u001b[39m.\u001b[39mprepare_and_fitness_medium(\n\u001b[1;32m    237\u001b[0m             region, big[\u001b[39m2\u001b[39m]), nums_medium, \u001b[39m\"\u001b[39m\u001b[39mmedium\u001b[39m\u001b[39m\"\u001b[39m\n\u001b[1;32m    238\u001b[0m     )\n\u001b[1;32m    239\u001b[0m     temp \u001b[39m=\u001b[39m pd\u001b[39m.\u001b[39mconcat([big[\u001b[39m2\u001b[39m], medium[\u001b[39m2\u001b[39m]])\u001b[39m.\u001b[39mreset_index()\u001b[39m.\u001b[39miloc[:, \u001b[39m1\u001b[39m:]\n",
      "File \u001b[0;32m~/Documents/GitHub/airliquide-sustainability-challenge-1/h2_station_distributor/models/stations.py:96\u001b[0m, in \u001b[0;36mStations.prepare_and_fitness_big\u001b[0;34m(self, department)\u001b[0m\n\u001b[1;32m     93\u001b[0m \u001b[39mdef\u001b[39;00m \u001b[39mprepare_and_fitness_big\u001b[39m(\u001b[39mself\u001b[39m, department):\n\u001b[1;32m     94\u001b[0m     \u001b[39m# sourcery skip: class-extract-method\u001b[39;00m\n\u001b[1;32m     95\u001b[0m     points \u001b[39m=\u001b[39m \u001b[39mself\u001b[39m\u001b[39m.\u001b[39mget_points(department)\n\u001b[0;32m---> 96\u001b[0m     points_dist \u001b[39m=\u001b[39m \u001b[39mself\u001b[39;49m\u001b[39m.\u001b[39;49madd_dist(points)\n\u001b[1;32m     98\u001b[0m     md \u001b[39m=\u001b[39m np\u001b[39m.\u001b[39mmax(points_dist[\u001b[39m\"\u001b[39m\u001b[39mmindist\u001b[39m\u001b[39m\"\u001b[39m])\n\u001b[1;32m     99\u001b[0m     points_dist[\u001b[39m\"\u001b[39m\u001b[39mtrucks_original\u001b[39m\u001b[39m\"\u001b[39m] \u001b[39m=\u001b[39m points_dist[\u001b[39m\"\u001b[39m\u001b[39mtrucks\u001b[39m\u001b[39m\"\u001b[39m]\n",
      "File \u001b[0;32m~/Documents/GitHub/airliquide-sustainability-challenge-1/h2_station_distributor/models/stations.py:87\u001b[0m, in \u001b[0;36mStations.add_dist\u001b[0;34m(self, points)\u001b[0m\n\u001b[1;32m     85\u001b[0m \u001b[39mmin\u001b[39m \u001b[39m=\u001b[39m \u001b[39m1000000\u001b[39m\n\u001b[1;32m     86\u001b[0m \u001b[39mfor\u001b[39;00m j \u001b[39min\u001b[39;00m \u001b[39mrange\u001b[39m(points\u001b[39m.\u001b[39mshape[\u001b[39m0\u001b[39m]):\n\u001b[0;32m---> 87\u001b[0m     temp \u001b[39m=\u001b[39m math\u001b[39m.\u001b[39mdist(points\u001b[39m.\u001b[39miloc[i, \u001b[39m1\u001b[39m], \u001b[39mself\u001b[39;49m\u001b[39m.\u001b[39;49mdfad\u001b[39m.\u001b[39;49miloc[j, \u001b[39m-\u001b[39;49m\u001b[39m1\u001b[39;49m])\n\u001b[1;32m     88\u001b[0m     \u001b[39mif\u001b[39;00m temp \u001b[39m<\u001b[39m \u001b[39mmin\u001b[39m:\n\u001b[1;32m     89\u001b[0m         \u001b[39mmin\u001b[39m \u001b[39m=\u001b[39m temp\n",
      "File \u001b[0;32m~/opt/anaconda3/envs/sust/lib/python3.9/site-packages/pandas/core/indexing.py:1066\u001b[0m, in \u001b[0;36m_LocationIndexer.__getitem__\u001b[0;34m(self, key)\u001b[0m\n\u001b[1;32m   1064\u001b[0m     key \u001b[39m=\u001b[39m \u001b[39mtuple\u001b[39m(com\u001b[39m.\u001b[39mapply_if_callable(x, \u001b[39mself\u001b[39m\u001b[39m.\u001b[39mobj) \u001b[39mfor\u001b[39;00m x \u001b[39min\u001b[39;00m key)\n\u001b[1;32m   1065\u001b[0m     \u001b[39mif\u001b[39;00m \u001b[39mself\u001b[39m\u001b[39m.\u001b[39m_is_scalar_access(key):\n\u001b[0;32m-> 1066\u001b[0m         \u001b[39mreturn\u001b[39;00m \u001b[39mself\u001b[39;49m\u001b[39m.\u001b[39;49mobj\u001b[39m.\u001b[39;49m_get_value(\u001b[39m*\u001b[39;49mkey, takeable\u001b[39m=\u001b[39;49m\u001b[39mself\u001b[39;49m\u001b[39m.\u001b[39;49m_takeable)\n\u001b[1;32m   1067\u001b[0m     \u001b[39mreturn\u001b[39;00m \u001b[39mself\u001b[39m\u001b[39m.\u001b[39m_getitem_tuple(key)\n\u001b[1;32m   1068\u001b[0m \u001b[39melse\u001b[39;00m:\n\u001b[1;32m   1069\u001b[0m     \u001b[39m# we by definition only have the 0th axis\u001b[39;00m\n",
      "File \u001b[0;32m~/opt/anaconda3/envs/sust/lib/python3.9/site-packages/pandas/core/frame.py:3915\u001b[0m, in \u001b[0;36mDataFrame._get_value\u001b[0;34m(self, index, col, takeable)\u001b[0m\n\u001b[1;32m   3913\u001b[0m \u001b[39mif\u001b[39;00m takeable:\n\u001b[1;32m   3914\u001b[0m     series \u001b[39m=\u001b[39m \u001b[39mself\u001b[39m\u001b[39m.\u001b[39m_ixs(col, axis\u001b[39m=\u001b[39m\u001b[39m1\u001b[39m)\n\u001b[0;32m-> 3915\u001b[0m     \u001b[39mreturn\u001b[39;00m series\u001b[39m.\u001b[39;49m_values[index]\n\u001b[1;32m   3917\u001b[0m series \u001b[39m=\u001b[39m \u001b[39mself\u001b[39m\u001b[39m.\u001b[39m_get_item_cache(col)\n\u001b[1;32m   3918\u001b[0m engine \u001b[39m=\u001b[39m \u001b[39mself\u001b[39m\u001b[39m.\u001b[39mindex\u001b[39m.\u001b[39m_engine\n",
      "\u001b[0;31mIndexError\u001b[0m: index 382 is out of bounds for axis 0 with size 382"
     ]
    }
   ],
   "source": [
    "def run_algo(reqs_df):\n",
    "  fin_df = pd.DataFrame({\"point\":[], \"coords\":[], \"mindist\":[], \"trucks\":[], \"fitness\":[], \"size\":[], \"region\":[]})\n",
    "  for i in range(reqs_df.shape[0]):\n",
    "    region = reqs_df.iloc[i,0]\n",
    "    small = reqs_df.iloc[i,1]\n",
    "    medium = reqs_df.iloc[i,2]\n",
    "    big = reqs_df.iloc[i,3]\n",
    "    print(region, small, medium, big)\n",
    "    solution = stations.solution(region,big, medium, small)\n",
    "    fin_df = pd.concat([fin_df, solution]).reset_index(drop=True)\n",
    "  return fin_df\n",
    "\n",
    "run_algo(reqs_df)"
   ]
  }
 ],
 "metadata": {
  "kernelspec": {
   "display_name": "sust",
   "language": "python",
   "name": "python3"
  },
  "language_info": {
   "codemirror_mode": {
    "name": "ipython",
    "version": 3
   },
   "file_extension": ".py",
   "mimetype": "text/x-python",
   "name": "python",
   "nbconvert_exporter": "python",
   "pygments_lexer": "ipython3",
   "version": "3.9.16"
  },
  "orig_nbformat": 4
 },
 "nbformat": 4,
 "nbformat_minor": 2
}
